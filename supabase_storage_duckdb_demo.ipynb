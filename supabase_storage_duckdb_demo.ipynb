{
  "cells": [
    {
      "cell_type": "markdown",
      "metadata": {
        "id": "BR6HNeWrVaV2"
      },
      "source": [
        "# Supabase Storage and DuckDB: A Powerful Combination for Data Handling\n",
        "\n",
        "⚡️ + 🦆 = 💚\n",
        "\n",
        "This demo showcases the seamless integration between Supabase Storage for data storage and DuckDB for efficient querying. Explore how to leverage these powerful tools together to streamline your data workflows.\n",
        "\n",
        "## Table of Contents\n",
        "\n",
        "0. [Setup and Installation](#Setup-and-Installation)\n",
        "1. [Query Postgres Data and Export to Supabase Storage](#Query-Postgres-Data-and-Export-to-Supabase-Storage)\n",
        "2. [Query Supabase Storage Directly with DuckDB](#Query-Supabase-Storage-Directly-with-DuckDB)\n",
        "3. [Visualizing Results](#Visualizing-Results)"
      ]
    },
    {
      "cell_type": "markdown",
      "metadata": {},
      "source": [
        "## Setup and Installation"
      ]
    },
    {
      "cell_type": "markdown",
      "metadata": {},
      "source": [
        "### Install Packages\n",
        "comment out the below block if you need to install the packages into your environment."
      ]
    },
    {
      "cell_type": "code",
      "execution_count": null,
      "metadata": {},
      "outputs": [],
      "source": [
        "# !pip install -r https://raw.githubusercontent.com/TylerHillery/supabase-storage-duckdb-demo/main/requirements.txt?token=GHSAT0AAAAAACPZEHJ7KIXE6CPID5MDMUE6ZQSAINQ "
      ]
    },
    {
      "cell_type": "markdown",
      "metadata": {},
      "source": [
        "Then we will import the necessary packages for the demo"
      ]
    },
    {
      "cell_type": "code",
      "execution_count": 47,
      "metadata": {},
      "outputs": [],
      "source": [
        "import os\n",
        "from datetime import datetime\n",
        "\n",
        "import altair as alt\n",
        "import duckdb"
      ]
    },
    {
      "cell_type": "markdown",
      "metadata": {},
      "source": [
        "The below two lines take environment variables from a .env file. If you are not using a .env file feel free to skip it. "
      ]
    },
    {
      "cell_type": "code",
      "execution_count": null,
      "metadata": {},
      "outputs": [],
      "source": [
        "from dotenv import load_dotenv\n",
        "\n",
        "load_dotenv()"
      ]
    },
    {
      "cell_type": "markdown",
      "metadata": {},
      "source": [
        "We will define some variables used for configuration management."
      ]
    },
    {
      "cell_type": "code",
      "execution_count": null,
      "metadata": {},
      "outputs": [],
      "source": [
        "# Postgres credentials\n",
        "POSTGRES_HOST = os.getenv(\"POSTGRES_HOST\")\n",
        "POSTGRES_PORT = os.getenv(\"POSTGRES_PORT\")\n",
        "POSTGRES_DATABASE = os.getenv(\"POSTGRES_DATABASE\")\n",
        "POSTGRES_USERNAME = os.getenv(\"POSTGRES_USERNAME\")\n",
        "POSTGRES_PASSWORD = os.getenv(\"POSTGRES_PASSWORD\")\n",
        "\n",
        "# Supabase storage credentials\n",
        "AWS_ACCESS_KEY_ID = os.getenv(\"AWS_ACCESS_KEY_ID\")\n",
        "AWS_SECRET_ACCESS_KEY = os.getenv(\"AWS_SECRET_ACCESS_KEY\")\n",
        "AWS_REGION = os.getenv(\"AWS_REGION\")\n",
        "BUCKET_URL = os.getenv(\"BUCKET_URL\")\n",
        "ENDPOINT_URL = os.getenv(\"ENDPOINT_URL\")"
      ]
    },
    {
      "cell_type": "markdown",
      "metadata": {},
      "source": [
        "DuckDB has native support for the [S3 API](https://duckdb.org/docs/extensions/httpfs/s3api.html) and we can use the DuckDB [Secrets Manager](https://duckdb.org/docs/configuration/secrets_manager) to store our credentials "
      ]
    },
    {
      "cell_type": "code",
      "execution_count": 4,
      "metadata": {},
      "outputs": [
        {
          "data": {
            "text/plain": [
              "┌─────────┐\n",
              "│ Success │\n",
              "│ boolean │\n",
              "├─────────┤\n",
              "│ true    │\n",
              "└─────────┘"
            ]
          },
          "execution_count": 4,
          "metadata": {},
          "output_type": "execute_result"
        }
      ],
      "source": [
        "duckdb.sql(f\"\"\"\n",
        "DROP SECRET IF EXISTS supabase_storage;\n",
        "CREATE SECRET supabase_storage (\n",
        "    TYPE S3,\n",
        "    KEY_ID '{AWS_ACCESS_KEY_ID}',\n",
        "    SECRET '{AWS_SECRET_ACCESS_KEY}', \n",
        "    ENDPOINT '{ENDPOINT_URL}', \n",
        "    REGION '{AWS_REGION}',\n",
        "    URL_STYLE 'path'\n",
        ")\n",
        "\"\"\")"
      ]
    },
    {
      "cell_type": "markdown",
      "metadata": {},
      "source": [
        "Load helpful DuckDB Postgres extension."
      ]
    },
    {
      "cell_type": "code",
      "execution_count": 5,
      "metadata": {},
      "outputs": [],
      "source": [
        "duckdb.sql(\"INSTALL postgres\")\n",
        "\n",
        "duckdb.sql(f\"\"\"\n",
        "ATTACH 'dbname={POSTGRES_DATABASE} user={POSTGRES_USERNAME} host={POSTGRES_HOST} password={POSTGRES_PASSWORD} port={POSTGRES_PORT}' AS postgres_db (TYPE POSTGRES, READ_ONLY)\n",
        "\"\"\")"
      ]
    },
    {
      "cell_type": "markdown",
      "metadata": {},
      "source": [
        "## Query Postgres Data and Export to Supabase Storage"
      ]
    },
    {
      "cell_type": "markdown",
      "metadata": {},
      "source": [
        "Lets first query data in our Postgres database and look at some results"
      ]
    },
    {
      "cell_type": "code",
      "execution_count": 25,
      "metadata": {},
      "outputs": [
        {
          "data": {
            "text/html": [
              "<div>\n",
              "<style scoped>\n",
              "    .dataframe tbody tr th:only-of-type {\n",
              "        vertical-align: middle;\n",
              "    }\n",
              "\n",
              "    .dataframe tbody tr th {\n",
              "        vertical-align: top;\n",
              "    }\n",
              "\n",
              "    .dataframe thead th {\n",
              "        text-align: right;\n",
              "    }\n",
              "</style>\n",
              "<table border=\"1\" class=\"dataframe\">\n",
              "  <thead>\n",
              "    <tr style=\"text-align: right;\">\n",
              "      <th></th>\n",
              "      <th>user_id</th>\n",
              "      <th>user_first_name</th>\n",
              "      <th>user_last_name</th>\n",
              "      <th>user_full_name</th>\n",
              "      <th>loaded_at_date</th>\n",
              "      <th>loaded_at_ts_utc</th>\n",
              "    </tr>\n",
              "  </thead>\n",
              "  <tbody>\n",
              "    <tr>\n",
              "      <th>0</th>\n",
              "      <td>1</td>\n",
              "      <td>Michael</td>\n",
              "      <td>P.</td>\n",
              "      <td>Michael P.</td>\n",
              "      <td>2024-04-07</td>\n",
              "      <td>2024-04-06 17:35:32.538000-07:00</td>\n",
              "    </tr>\n",
              "    <tr>\n",
              "      <th>1</th>\n",
              "      <td>2</td>\n",
              "      <td>Shawn</td>\n",
              "      <td>M.</td>\n",
              "      <td>Shawn M.</td>\n",
              "      <td>2024-04-07</td>\n",
              "      <td>2024-04-06 17:35:32.538000-07:00</td>\n",
              "    </tr>\n",
              "    <tr>\n",
              "      <th>2</th>\n",
              "      <td>3</td>\n",
              "      <td>Kathleen</td>\n",
              "      <td>P.</td>\n",
              "      <td>Kathleen P.</td>\n",
              "      <td>2024-04-07</td>\n",
              "      <td>2024-04-06 17:35:32.538000-07:00</td>\n",
              "    </tr>\n",
              "    <tr>\n",
              "      <th>3</th>\n",
              "      <td>4</td>\n",
              "      <td>Jimmy</td>\n",
              "      <td>C.</td>\n",
              "      <td>Jimmy C.</td>\n",
              "      <td>2024-04-07</td>\n",
              "      <td>2024-04-06 17:35:32.538000-07:00</td>\n",
              "    </tr>\n",
              "    <tr>\n",
              "      <th>4</th>\n",
              "      <td>5</td>\n",
              "      <td>Katherine</td>\n",
              "      <td>R.</td>\n",
              "      <td>Katherine R.</td>\n",
              "      <td>2024-04-07</td>\n",
              "      <td>2024-04-06 17:35:32.538000-07:00</td>\n",
              "    </tr>\n",
              "  </tbody>\n",
              "</table>\n",
              "</div>"
            ],
            "text/plain": [
              "   user_id user_first_name user_last_name user_full_name loaded_at_date  \\\n",
              "0        1         Michael             P.     Michael P.     2024-04-07   \n",
              "1        2           Shawn             M.       Shawn M.     2024-04-07   \n",
              "2        3        Kathleen             P.    Kathleen P.     2024-04-07   \n",
              "3        4           Jimmy             C.       Jimmy C.     2024-04-07   \n",
              "4        5       Katherine             R.   Katherine R.     2024-04-07   \n",
              "\n",
              "                  loaded_at_ts_utc  \n",
              "0 2024-04-06 17:35:32.538000-07:00  \n",
              "1 2024-04-06 17:35:32.538000-07:00  \n",
              "2 2024-04-06 17:35:32.538000-07:00  \n",
              "3 2024-04-06 17:35:32.538000-07:00  \n",
              "4 2024-04-06 17:35:32.538000-07:00  "
            ]
          },
          "execution_count": 25,
          "metadata": {},
          "output_type": "execute_result"
        }
      ],
      "source": [
        "select_pg_customers = \"\"\"\n",
        "SELECT\n",
        "    id                              AS user_id,\n",
        "    first_name                      AS user_first_name,\n",
        "    last_name                       AS user_last_name,\n",
        "    first_name || ' ' || last_name  AS user_full_name,\n",
        "    CURRENT_DATE                    as loaded_at_date,\n",
        "    CURRENT_TIMESTAMP               AS loaded_at_ts_utc\n",
        "FROM \n",
        "    postgres_db.customers \n",
        "\"\"\"\n",
        "duckdb.sql(select_pg_customers).df().head()"
      ]
    },
    {
      "cell_type": "markdown",
      "metadata": {},
      "source": [
        "Now lets export those query results to our Supabase Storage bucket as a parquet file."
      ]
    },
    {
      "cell_type": "code",
      "execution_count": 26,
      "metadata": {},
      "outputs": [],
      "source": [
        "duckdb.sql(f\"\"\"\n",
        "COPY ({select_pg_customers}) \n",
        "TO '{BUCKET_URL}/customers/{datetime.now().strftime(\"%Y-%m-%d\")}.parquet'\n",
        "\"\"\")"
      ]
    },
    {
      "cell_type": "markdown",
      "metadata": {},
      "source": [
        "You can do CSV file as well"
      ]
    },
    {
      "cell_type": "code",
      "execution_count": 20,
      "metadata": {},
      "outputs": [],
      "source": [
        "duckdb.sql(f\"\"\"\n",
        "COPY ({select_pg_customers}) \n",
        "TO '{BUCKET_URL}/customers/{datetime.now().strftime(\"%Y-%m-%d\")}.csv'\n",
        "\"\"\")"
      ]
    },
    {
      "cell_type": "markdown",
      "metadata": {},
      "source": [
        "Lets do the same for the rest of the tables"
      ]
    },
    {
      "cell_type": "code",
      "execution_count": 21,
      "metadata": {},
      "outputs": [
        {
          "data": {
            "text/html": [
              "<div>\n",
              "<style scoped>\n",
              "    .dataframe tbody tr th:only-of-type {\n",
              "        vertical-align: middle;\n",
              "    }\n",
              "\n",
              "    .dataframe tbody tr th {\n",
              "        vertical-align: top;\n",
              "    }\n",
              "\n",
              "    .dataframe thead th {\n",
              "        text-align: right;\n",
              "    }\n",
              "</style>\n",
              "<table border=\"1\" class=\"dataframe\">\n",
              "  <thead>\n",
              "    <tr style=\"text-align: right;\">\n",
              "      <th></th>\n",
              "      <th>order_id</th>\n",
              "      <th>user_id</th>\n",
              "      <th>order_date</th>\n",
              "      <th>order_status</th>\n",
              "      <th>loaded_at_date</th>\n",
              "      <th>loaded_at_ts_utc</th>\n",
              "    </tr>\n",
              "  </thead>\n",
              "  <tbody>\n",
              "    <tr>\n",
              "      <th>0</th>\n",
              "      <td>1</td>\n",
              "      <td>1</td>\n",
              "      <td>2018-01-01</td>\n",
              "      <td>returned</td>\n",
              "      <td>2024-04-07</td>\n",
              "      <td>2024-04-06 17:18:09.396000-07:00</td>\n",
              "    </tr>\n",
              "    <tr>\n",
              "      <th>1</th>\n",
              "      <td>2</td>\n",
              "      <td>3</td>\n",
              "      <td>2018-01-02</td>\n",
              "      <td>completed</td>\n",
              "      <td>2024-04-07</td>\n",
              "      <td>2024-04-06 17:18:09.396000-07:00</td>\n",
              "    </tr>\n",
              "    <tr>\n",
              "      <th>2</th>\n",
              "      <td>3</td>\n",
              "      <td>94</td>\n",
              "      <td>2018-01-04</td>\n",
              "      <td>completed</td>\n",
              "      <td>2024-04-07</td>\n",
              "      <td>2024-04-06 17:18:09.396000-07:00</td>\n",
              "    </tr>\n",
              "    <tr>\n",
              "      <th>3</th>\n",
              "      <td>4</td>\n",
              "      <td>50</td>\n",
              "      <td>2018-01-05</td>\n",
              "      <td>completed</td>\n",
              "      <td>2024-04-07</td>\n",
              "      <td>2024-04-06 17:18:09.396000-07:00</td>\n",
              "    </tr>\n",
              "    <tr>\n",
              "      <th>4</th>\n",
              "      <td>5</td>\n",
              "      <td>64</td>\n",
              "      <td>2018-01-05</td>\n",
              "      <td>completed</td>\n",
              "      <td>2024-04-07</td>\n",
              "      <td>2024-04-06 17:18:09.396000-07:00</td>\n",
              "    </tr>\n",
              "  </tbody>\n",
              "</table>\n",
              "</div>"
            ],
            "text/plain": [
              "   order_id  user_id order_date order_status loaded_at_date  \\\n",
              "0         1        1 2018-01-01     returned     2024-04-07   \n",
              "1         2        3 2018-01-02    completed     2024-04-07   \n",
              "2         3       94 2018-01-04    completed     2024-04-07   \n",
              "3         4       50 2018-01-05    completed     2024-04-07   \n",
              "4         5       64 2018-01-05    completed     2024-04-07   \n",
              "\n",
              "                  loaded_at_ts_utc  \n",
              "0 2024-04-06 17:18:09.396000-07:00  \n",
              "1 2024-04-06 17:18:09.396000-07:00  \n",
              "2 2024-04-06 17:18:09.396000-07:00  \n",
              "3 2024-04-06 17:18:09.396000-07:00  \n",
              "4 2024-04-06 17:18:09.396000-07:00  "
            ]
          },
          "execution_count": 21,
          "metadata": {},
          "output_type": "execute_result"
        }
      ],
      "source": [
        "select_pg_orders = \"\"\"\n",
        "SELECT\n",
        "    id                  AS order_id,\n",
        "    user_id             AS user_id,\n",
        "    order_date          AS order_date,\n",
        "    status              AS order_status,\n",
        "    CURRENT_DATE        AS loaded_at_date,\n",
        "    CURRENT_TIMESTAMP   AS loaded_at_ts_utc\n",
        "FROM \n",
        "    postgres_db.orders\n",
        "\"\"\"\n",
        "duckdb.sql(select_pg_orders).df().head()"
      ]
    },
    {
      "cell_type": "code",
      "execution_count": 22,
      "metadata": {},
      "outputs": [],
      "source": [
        "duckdb.sql(f\"\"\"\n",
        "COPY ({select_pg_orders}) \n",
        "TO '{BUCKET_URL}/orders/{datetime.now().strftime(\"%Y-%m-%d\")}.parquet'\n",
        "\"\"\")"
      ]
    },
    {
      "cell_type": "code",
      "execution_count": 24,
      "metadata": {},
      "outputs": [
        {
          "data": {
            "text/html": [
              "<div>\n",
              "<style scoped>\n",
              "    .dataframe tbody tr th:only-of-type {\n",
              "        vertical-align: middle;\n",
              "    }\n",
              "\n",
              "    .dataframe tbody tr th {\n",
              "        vertical-align: top;\n",
              "    }\n",
              "\n",
              "    .dataframe thead th {\n",
              "        text-align: right;\n",
              "    }\n",
              "</style>\n",
              "<table border=\"1\" class=\"dataframe\">\n",
              "  <thead>\n",
              "    <tr style=\"text-align: right;\">\n",
              "      <th></th>\n",
              "      <th>payment_id</th>\n",
              "      <th>order_id</th>\n",
              "      <th>payment_method</th>\n",
              "      <th>order_amount_usd</th>\n",
              "      <th>loaded_at_date</th>\n",
              "      <th>loaded_at_ts_utc</th>\n",
              "    </tr>\n",
              "  </thead>\n",
              "  <tbody>\n",
              "    <tr>\n",
              "      <th>0</th>\n",
              "      <td>1</td>\n",
              "      <td>1</td>\n",
              "      <td>credit_card</td>\n",
              "      <td>1000.0</td>\n",
              "      <td>2024-04-07</td>\n",
              "      <td>2024-04-06 17:25:39.773000-07:00</td>\n",
              "    </tr>\n",
              "    <tr>\n",
              "      <th>1</th>\n",
              "      <td>2</td>\n",
              "      <td>2</td>\n",
              "      <td>credit_card</td>\n",
              "      <td>2000.0</td>\n",
              "      <td>2024-04-07</td>\n",
              "      <td>2024-04-06 17:25:39.773000-07:00</td>\n",
              "    </tr>\n",
              "    <tr>\n",
              "      <th>2</th>\n",
              "      <td>3</td>\n",
              "      <td>3</td>\n",
              "      <td>coupon</td>\n",
              "      <td>100.0</td>\n",
              "      <td>2024-04-07</td>\n",
              "      <td>2024-04-06 17:25:39.773000-07:00</td>\n",
              "    </tr>\n",
              "    <tr>\n",
              "      <th>3</th>\n",
              "      <td>4</td>\n",
              "      <td>4</td>\n",
              "      <td>coupon</td>\n",
              "      <td>2500.0</td>\n",
              "      <td>2024-04-07</td>\n",
              "      <td>2024-04-06 17:25:39.773000-07:00</td>\n",
              "    </tr>\n",
              "    <tr>\n",
              "      <th>4</th>\n",
              "      <td>5</td>\n",
              "      <td>5</td>\n",
              "      <td>bank_transfer</td>\n",
              "      <td>1700.0</td>\n",
              "      <td>2024-04-07</td>\n",
              "      <td>2024-04-06 17:25:39.773000-07:00</td>\n",
              "    </tr>\n",
              "  </tbody>\n",
              "</table>\n",
              "</div>"
            ],
            "text/plain": [
              "   payment_id  order_id payment_method  order_amount_usd loaded_at_date  \\\n",
              "0           1         1    credit_card            1000.0     2024-04-07   \n",
              "1           2         2    credit_card            2000.0     2024-04-07   \n",
              "2           3         3         coupon             100.0     2024-04-07   \n",
              "3           4         4         coupon            2500.0     2024-04-07   \n",
              "4           5         5  bank_transfer            1700.0     2024-04-07   \n",
              "\n",
              "                  loaded_at_ts_utc  \n",
              "0 2024-04-06 17:25:39.773000-07:00  \n",
              "1 2024-04-06 17:25:39.773000-07:00  \n",
              "2 2024-04-06 17:25:39.773000-07:00  \n",
              "3 2024-04-06 17:25:39.773000-07:00  \n",
              "4 2024-04-06 17:25:39.773000-07:00  "
            ]
          },
          "execution_count": 24,
          "metadata": {},
          "output_type": "execute_result"
        }
      ],
      "source": [
        "select_pg_payments = \"\"\"\n",
        "SELECT\n",
        "    id                  AS payment_id,\n",
        "    order_id            AS order_id,\n",
        "    payment_method      AS payment_method,\n",
        "    amount              AS order_amount_usd,\n",
        "    CURRENT_DATE        AS loaded_at_date,\n",
        "    CURRENT_TIMESTAMP   AS loaded_at_ts_utc\n",
        "FROM \n",
        "    postgres_db.payments\n",
        "\"\"\"\n",
        "duckdb.sql(select_pg_payments).df().head()"
      ]
    },
    {
      "cell_type": "code",
      "execution_count": 43,
      "metadata": {},
      "outputs": [],
      "source": [
        "duckdb.sql(f\"\"\"\n",
        "COPY ({select_pg_payments}) \n",
        "TO '{BUCKET_URL}/payments/{datetime.now().strftime(\"%Y-%m-%d\")}.parquet'\n",
        "\"\"\")"
      ]
    },
    {
      "cell_type": "markdown",
      "metadata": {},
      "source": [
        "## Query Supabase Storage Directly with DuckDB"
      ]
    },
    {
      "cell_type": "markdown",
      "metadata": {},
      "source": [
        "Now the tables are loaded lets query the files from Supabase Storage. We can even do file globbing patterns and return the filename."
      ]
    },
    {
      "cell_type": "code",
      "execution_count": 38,
      "metadata": {},
      "outputs": [
        {
          "name": "stdout",
          "output_type": "stream",
          "text": [
            "┌──────────────┐\n",
            "│ record_count │\n",
            "│    int64     │\n",
            "├──────────────┤\n",
            "│           99 │\n",
            "└──────────────┘\n",
            "\n"
          ]
        }
      ],
      "source": [
        "select_from_bucket = f\"\"\"\n",
        "SELECT count(*) as record_count\n",
        "FROM read_parquet('{BUCKET_URL}/orders/*', filename = true)\n",
        "\"\"\"\n",
        "duckdb.sql(select_from_bucket).show()"
      ]
    },
    {
      "cell_type": "code",
      "execution_count": 46,
      "metadata": {},
      "outputs": [
        {
          "data": {
            "text/html": [
              "<div>\n",
              "<style scoped>\n",
              "    .dataframe tbody tr th:only-of-type {\n",
              "        vertical-align: middle;\n",
              "    }\n",
              "\n",
              "    .dataframe tbody tr th {\n",
              "        vertical-align: top;\n",
              "    }\n",
              "\n",
              "    .dataframe thead th {\n",
              "        text-align: right;\n",
              "    }\n",
              "</style>\n",
              "<table border=\"1\" class=\"dataframe\">\n",
              "  <thead>\n",
              "    <tr style=\"text-align: right;\">\n",
              "      <th></th>\n",
              "      <th>order_date</th>\n",
              "      <th>order_id</th>\n",
              "      <th>user_full_name</th>\n",
              "      <th>order_status</th>\n",
              "      <th>payment_method</th>\n",
              "      <th>order_amount_usd</th>\n",
              "      <th>user_id</th>\n",
              "      <th>payment_id</th>\n",
              "    </tr>\n",
              "  </thead>\n",
              "  <tbody>\n",
              "    <tr>\n",
              "      <th>0</th>\n",
              "      <td>2018-01-01</td>\n",
              "      <td>1</td>\n",
              "      <td>Michael P.</td>\n",
              "      <td>returned</td>\n",
              "      <td>credit_card</td>\n",
              "      <td>1000.0</td>\n",
              "      <td>1</td>\n",
              "      <td>1</td>\n",
              "    </tr>\n",
              "    <tr>\n",
              "      <th>1</th>\n",
              "      <td>2018-01-02</td>\n",
              "      <td>2</td>\n",
              "      <td>Kathleen P.</td>\n",
              "      <td>completed</td>\n",
              "      <td>credit_card</td>\n",
              "      <td>2000.0</td>\n",
              "      <td>3</td>\n",
              "      <td>2</td>\n",
              "    </tr>\n",
              "    <tr>\n",
              "      <th>2</th>\n",
              "      <td>2018-01-04</td>\n",
              "      <td>3</td>\n",
              "      <td>Gregory H.</td>\n",
              "      <td>completed</td>\n",
              "      <td>coupon</td>\n",
              "      <td>100.0</td>\n",
              "      <td>94</td>\n",
              "      <td>3</td>\n",
              "    </tr>\n",
              "    <tr>\n",
              "      <th>3</th>\n",
              "      <td>2018-01-05</td>\n",
              "      <td>5</td>\n",
              "      <td>David C.</td>\n",
              "      <td>completed</td>\n",
              "      <td>bank_transfer</td>\n",
              "      <td>1700.0</td>\n",
              "      <td>64</td>\n",
              "      <td>5</td>\n",
              "    </tr>\n",
              "    <tr>\n",
              "      <th>4</th>\n",
              "      <td>2018-01-07</td>\n",
              "      <td>6</td>\n",
              "      <td>Rose M.</td>\n",
              "      <td>completed</td>\n",
              "      <td>credit_card</td>\n",
              "      <td>600.0</td>\n",
              "      <td>54</td>\n",
              "      <td>6</td>\n",
              "    </tr>\n",
              "  </tbody>\n",
              "</table>\n",
              "</div>"
            ],
            "text/plain": [
              "  order_date  order_id user_full_name order_status payment_method  \\\n",
              "0 2018-01-01         1     Michael P.     returned    credit_card   \n",
              "1 2018-01-02         2    Kathleen P.    completed    credit_card   \n",
              "2 2018-01-04         3     Gregory H.    completed         coupon   \n",
              "3 2018-01-05         5       David C.    completed  bank_transfer   \n",
              "4 2018-01-07         6        Rose M.    completed    credit_card   \n",
              "\n",
              "   order_amount_usd  user_id  payment_id  \n",
              "0            1000.0        1           1  \n",
              "1            2000.0        3           2  \n",
              "2             100.0       94           3  \n",
              "3            1700.0       64           5  \n",
              "4             600.0       54           6  "
            ]
          },
          "execution_count": 46,
          "metadata": {},
          "output_type": "execute_result"
        }
      ],
      "source": [
        "join_tables = f\"\"\"\n",
        "SELECT\n",
        "    orders.order_date,\n",
        "    orders.order_id,\n",
        "    customers.user_full_name,\n",
        "    orders.order_status,\n",
        "    payments.payment_method,\n",
        "    payments.order_amount_usd,\n",
        "    customers.user_id,\n",
        "    payments.payment_id\n",
        "FROM\n",
        "    read_parquet('{BUCKET_URL}/orders/*.parquet') AS orders \n",
        "    LEFT JOIN read_parquet('{BUCKET_URL}/customers/*.parquet') AS customers\n",
        "        ON orders.user_id = customers.user_id\n",
        "    LEFT JOIN read_parquet('{BUCKET_URL}/payments/*.parquet') AS payments \n",
        "        ON orders.order_id = payments.order_id\n",
        "\"\"\"\n",
        "orders_df = duckdb.sql(join_tables).df()\n",
        "\n",
        "orders_df.head()"
      ]
    },
    {
      "cell_type": "markdown",
      "metadata": {},
      "source": [
        "## Visualizing Results"
      ]
    },
    {
      "cell_type": "markdown",
      "metadata": {
        "id": "BpD-g5jHVgqf"
      },
      "source": [
        "DuckDB can return results in variety of formats such as:\n",
        "- `.fetchall()` returns a list of tuples\n",
        "- `.df()` returns a Pandas DataFrame\n",
        "- `.pl()` returns a Polars DataFrame\n",
        "- `.arrow()` return an Arrow Table \n",
        "- `fetchnumpy()` returns NumPy Arrays\n",
        "\n",
        "This works nicely with several data viz libraries e.g. Matplotlib, Seaborn, Bokeh. I will be using Altair which is based Vega-Lite"
      ]
    },
    {
      "cell_type": "code",
      "execution_count": 61,
      "metadata": {},
      "outputs": [
        {
          "data": {
            "text/html": [
              "\n",
              "<style>\n",
              "  #altair-viz-c974d33012ae4397b3d85f8f0ca7a10d.vega-embed {\n",
              "    width: 100%;\n",
              "    display: flex;\n",
              "  }\n",
              "\n",
              "  #altair-viz-c974d33012ae4397b3d85f8f0ca7a10d.vega-embed details,\n",
              "  #altair-viz-c974d33012ae4397b3d85f8f0ca7a10d.vega-embed details summary {\n",
              "    position: relative;\n",
              "  }\n",
              "</style>\n",
              "<div id=\"altair-viz-c974d33012ae4397b3d85f8f0ca7a10d\"></div>\n",
              "<script type=\"text/javascript\">\n",
              "  var VEGA_DEBUG = (typeof VEGA_DEBUG == \"undefined\") ? {} : VEGA_DEBUG;\n",
              "  (function(spec, embedOpt){\n",
              "    let outputDiv = document.currentScript.previousElementSibling;\n",
              "    if (outputDiv.id !== \"altair-viz-c974d33012ae4397b3d85f8f0ca7a10d\") {\n",
              "      outputDiv = document.getElementById(\"altair-viz-c974d33012ae4397b3d85f8f0ca7a10d\");\n",
              "    }\n",
              "    const paths = {\n",
              "      \"vega\": \"https://cdn.jsdelivr.net/npm/vega@5?noext\",\n",
              "      \"vega-lib\": \"https://cdn.jsdelivr.net/npm/vega-lib?noext\",\n",
              "      \"vega-lite\": \"https://cdn.jsdelivr.net/npm/vega-lite@5.17.0?noext\",\n",
              "      \"vega-embed\": \"https://cdn.jsdelivr.net/npm/vega-embed@6?noext\",\n",
              "    };\n",
              "\n",
              "    function maybeLoadScript(lib, version) {\n",
              "      var key = `${lib.replace(\"-\", \"\")}_version`;\n",
              "      return (VEGA_DEBUG[key] == version) ?\n",
              "        Promise.resolve(paths[lib]) :\n",
              "        new Promise(function(resolve, reject) {\n",
              "          var s = document.createElement('script');\n",
              "          document.getElementsByTagName(\"head\")[0].appendChild(s);\n",
              "          s.async = true;\n",
              "          s.onload = () => {\n",
              "            VEGA_DEBUG[key] = version;\n",
              "            return resolve(paths[lib]);\n",
              "          };\n",
              "          s.onerror = () => reject(`Error loading script: ${paths[lib]}`);\n",
              "          s.src = paths[lib];\n",
              "        });\n",
              "    }\n",
              "\n",
              "    function showError(err) {\n",
              "      outputDiv.innerHTML = `<div class=\"error\" style=\"color:red;\">${err}</div>`;\n",
              "      throw err;\n",
              "    }\n",
              "\n",
              "    function displayChart(vegaEmbed) {\n",
              "      vegaEmbed(outputDiv, spec, embedOpt)\n",
              "        .catch(err => showError(`Javascript Error: ${err.message}<br>This usually means there's a typo in your chart specification. See the javascript console for the full traceback.`));\n",
              "    }\n",
              "\n",
              "    if(typeof define === \"function\" && define.amd) {\n",
              "      requirejs.config({paths});\n",
              "      require([\"vega-embed\"], displayChart, err => showError(`Error loading script: ${err.message}`));\n",
              "    } else {\n",
              "      maybeLoadScript(\"vega\", \"5\")\n",
              "        .then(() => maybeLoadScript(\"vega-lite\", \"5.17.0\"))\n",
              "        .then(() => maybeLoadScript(\"vega-embed\", \"6\"))\n",
              "        .catch(showError)\n",
              "        .then(() => displayChart(vegaEmbed));\n",
              "    }\n",
              "  })({\"config\": {\"view\": {\"continuousWidth\": 300, \"continuousHeight\": 300}}, \"data\": {\"name\": \"data-70cb052a061b1a9db5760d148b6d0e6d\"}, \"mark\": {\"type\": \"line\"}, \"encoding\": {\"tooltip\": [{\"field\": \"order_month\", \"type\": \"temporal\"}, {\"field\": \"sales\", \"type\": \"quantitative\"}], \"x\": {\"field\": \"order_month\", \"type\": \"temporal\"}, \"y\": {\"axis\": {\"format\": \"$.2f\"}, \"field\": \"sales\", \"type\": \"quantitative\"}}, \"height\": 400, \"params\": [{\"name\": \"param_9\", \"select\": {\"type\": \"interval\", \"encodings\": [\"x\", \"y\"]}, \"bind\": \"scales\"}], \"width\": 750, \"$schema\": \"https://vega.github.io/schema/vega-lite/v5.17.0.json\", \"datasets\": {\"data-70cb052a061b1a9db5760d148b6d0e6d\": [{\"order_month\": \"2018-01-01T00:00:00\", \"sales\": 44700.0}, {\"order_month\": \"2018-02-01T00:00:00\", \"sales\": 41500.0}, {\"order_month\": \"2018-03-01T00:00:00\", \"sales\": 62200.0}, {\"order_month\": \"2018-04-01T00:00:00\", \"sales\": 13900.0}]}}, {\"mode\": \"vega-lite\"});\n",
              "</script>"
            ],
            "text/plain": [
              "alt.Chart(...)"
            ]
          },
          "execution_count": 61,
          "metadata": {},
          "output_type": "execute_result"
        }
      ],
      "source": [
        "monthly_sales = \"\"\"\n",
        "SELECT \n",
        "    date_trunc('month', order_date) as order_month,\n",
        "    sum(order_amount_usd) as sales \n",
        "FROM \n",
        "    orders_df\n",
        "WHERE \n",
        "    order_status != 'returned'\n",
        "GROUP BY ALL\n",
        "ORDER BY 1 \n",
        "\"\"\"\n",
        "\n",
        "chart = alt.Chart(duckdb.sql(monthly_sales).df()).mark_line().encode(\n",
        "    x=\"order_month\",\n",
        "    y=alt.Y(\"sales\", axis=alt.Axis(format='$,.2f')),\n",
        "    tooltip=[\"order_month\", \"sales\"]\n",
        ").properties(\n",
        "    width=750,\n",
        "    height=400\n",
        ").interactive()\n",
        "chart"
      ]
    },
    {
      "cell_type": "code",
      "execution_count": 64,
      "metadata": {},
      "outputs": [
        {
          "data": {
            "text/html": [
              "\n",
              "<style>\n",
              "  #altair-viz-2433f73207e842538914f542f22d774c.vega-embed {\n",
              "    width: 100%;\n",
              "    display: flex;\n",
              "  }\n",
              "\n",
              "  #altair-viz-2433f73207e842538914f542f22d774c.vega-embed details,\n",
              "  #altair-viz-2433f73207e842538914f542f22d774c.vega-embed details summary {\n",
              "    position: relative;\n",
              "  }\n",
              "</style>\n",
              "<div id=\"altair-viz-2433f73207e842538914f542f22d774c\"></div>\n",
              "<script type=\"text/javascript\">\n",
              "  var VEGA_DEBUG = (typeof VEGA_DEBUG == \"undefined\") ? {} : VEGA_DEBUG;\n",
              "  (function(spec, embedOpt){\n",
              "    let outputDiv = document.currentScript.previousElementSibling;\n",
              "    if (outputDiv.id !== \"altair-viz-2433f73207e842538914f542f22d774c\") {\n",
              "      outputDiv = document.getElementById(\"altair-viz-2433f73207e842538914f542f22d774c\");\n",
              "    }\n",
              "    const paths = {\n",
              "      \"vega\": \"https://cdn.jsdelivr.net/npm/vega@5?noext\",\n",
              "      \"vega-lib\": \"https://cdn.jsdelivr.net/npm/vega-lib?noext\",\n",
              "      \"vega-lite\": \"https://cdn.jsdelivr.net/npm/vega-lite@5.17.0?noext\",\n",
              "      \"vega-embed\": \"https://cdn.jsdelivr.net/npm/vega-embed@6?noext\",\n",
              "    };\n",
              "\n",
              "    function maybeLoadScript(lib, version) {\n",
              "      var key = `${lib.replace(\"-\", \"\")}_version`;\n",
              "      return (VEGA_DEBUG[key] == version) ?\n",
              "        Promise.resolve(paths[lib]) :\n",
              "        new Promise(function(resolve, reject) {\n",
              "          var s = document.createElement('script');\n",
              "          document.getElementsByTagName(\"head\")[0].appendChild(s);\n",
              "          s.async = true;\n",
              "          s.onload = () => {\n",
              "            VEGA_DEBUG[key] = version;\n",
              "            return resolve(paths[lib]);\n",
              "          };\n",
              "          s.onerror = () => reject(`Error loading script: ${paths[lib]}`);\n",
              "          s.src = paths[lib];\n",
              "        });\n",
              "    }\n",
              "\n",
              "    function showError(err) {\n",
              "      outputDiv.innerHTML = `<div class=\"error\" style=\"color:red;\">${err}</div>`;\n",
              "      throw err;\n",
              "    }\n",
              "\n",
              "    function displayChart(vegaEmbed) {\n",
              "      vegaEmbed(outputDiv, spec, embedOpt)\n",
              "        .catch(err => showError(`Javascript Error: ${err.message}<br>This usually means there's a typo in your chart specification. See the javascript console for the full traceback.`));\n",
              "    }\n",
              "\n",
              "    if(typeof define === \"function\" && define.amd) {\n",
              "      requirejs.config({paths});\n",
              "      require([\"vega-embed\"], displayChart, err => showError(`Error loading script: ${err.message}`));\n",
              "    } else {\n",
              "      maybeLoadScript(\"vega\", \"5\")\n",
              "        .then(() => maybeLoadScript(\"vega-lite\", \"5.17.0\"))\n",
              "        .then(() => maybeLoadScript(\"vega-embed\", \"6\"))\n",
              "        .catch(showError)\n",
              "        .then(() => displayChart(vegaEmbed));\n",
              "    }\n",
              "  })({\"config\": {\"view\": {\"continuousWidth\": 300, \"continuousHeight\": 300}}, \"data\": {\"name\": \"data-ae1b25ea32dc67646bf2e928295c79c7\"}, \"mark\": {\"type\": \"bar\"}, \"encoding\": {\"color\": {\"field\": \"order_status\", \"type\": \"nominal\"}, \"tooltip\": [{\"field\": \"order_month\", \"type\": \"nominal\"}, {\"field\": \"sales\", \"type\": \"quantitative\"}, {\"field\": \"order_status\", \"type\": \"nominal\"}], \"x\": {\"field\": \"order_month\", \"type\": \"nominal\"}, \"y\": {\"axis\": {\"format\": \"$,.2f\"}, \"field\": \"sales\", \"type\": \"quantitative\"}}, \"height\": 400, \"params\": [{\"name\": \"param_12\", \"select\": {\"type\": \"interval\", \"encodings\": [\"x\", \"y\"]}, \"bind\": \"scales\"}], \"width\": 750, \"$schema\": \"https://vega.github.io/schema/vega-lite/v5.17.0.json\", \"datasets\": {\"data-ae1b25ea32dc67646bf2e928295c79c7\": [{\"order_month\": \"2018-01-01\", \"order_status\": \"returned\", \"sales\": 4900.0}, {\"order_month\": \"2018-01-01\", \"order_status\": \"return_pending\", \"sales\": 2300.0}, {\"order_month\": \"2018-01-01\", \"order_status\": \"completed\", \"sales\": 42400.0}, {\"order_month\": \"2018-02-01\", \"order_status\": \"return_pending\", \"sales\": 1500.0}, {\"order_month\": \"2018-02-01\", \"order_status\": \"completed\", \"sales\": 40000.0}, {\"order_month\": \"2018-03-01\", \"order_status\": \"shipped\", \"sales\": 19800.0}, {\"order_month\": \"2018-03-01\", \"order_status\": \"placed\", \"sales\": 14500.0}, {\"order_month\": \"2018-03-01\", \"order_status\": \"completed\", \"sales\": 27900.0}, {\"order_month\": \"2018-04-01\", \"order_status\": \"placed\", \"sales\": 13900.0}]}}, {\"mode\": \"vega-lite\"});\n",
              "</script>"
            ],
            "text/plain": [
              "alt.Chart(...)"
            ]
          },
          "execution_count": 64,
          "metadata": {},
          "output_type": "execute_result"
        }
      ],
      "source": [
        "monthly_sales_by_order_status = \"\"\"\n",
        "SELECT \n",
        "    date_trunc('month', order_date)::string as order_month,\n",
        "    order_status,\n",
        "    sum(order_amount_usd) as sales \n",
        "FROM \n",
        "    orders_df\n",
        "GROUP BY ALL\n",
        "ORDER BY 1 \n",
        "\"\"\"\n",
        "\n",
        "chart = alt.Chart(duckdb.sql(monthly_sales_by_order_status).df()).mark_bar().encode(\n",
        "    x=\"order_month\",\n",
        "    y=alt.Y(\"sales\", axis=alt.Axis(format='$,.2f')),\n",
        "    tooltip=[\"order_month\", \"sales\", \"order_status\"],\n",
        "    color=\"order_status\",\n",
        ").properties(\n",
        "    width=750,\n",
        "    height=400\n",
        ").interactive()\n",
        "chart"
      ]
    }
  ],
  "metadata": {
    "colab": {
      "authorship_tag": "ABX9TyO/Ee1TifGXRy73jEJZpoSn",
      "include_colab_link": true,
      "provenance": []
    },
    "kernelspec": {
      "display_name": "Python 3",
      "name": "python3"
    },
    "language_info": {
      "codemirror_mode": {
        "name": "ipython",
        "version": 3
      },
      "file_extension": ".py",
      "mimetype": "text/x-python",
      "name": "python",
      "nbconvert_exporter": "python",
      "pygments_lexer": "ipython3",
      "version": "3.11.7"
    }
  },
  "nbformat": 4,
  "nbformat_minor": 0
}
